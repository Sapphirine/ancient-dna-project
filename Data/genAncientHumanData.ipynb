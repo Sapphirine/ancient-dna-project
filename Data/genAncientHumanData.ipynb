{
 "cells": [
  {
   "cell_type": "code",
   "execution_count": 1,
   "metadata": {},
   "outputs": [
    {
     "name": "stderr",
     "output_type": "stream",
     "text": [
      "C:\\Users\\thepr\\AppData\\Local\\Temp\\ipykernel_13908\\1361958898.py:3: DtypeWarning: Columns (10,16,17) have mixed types. Specify dtype option on import or set low_memory=False.\n",
      "  annoDf=pd.read_csv('./v62.0_1240k_public.tsv',sep=\"\\t\")\n"
     ]
    },
    {
     "data": {
      "text/html": [
       "<div>\n",
       "<style scoped>\n",
       "    .dataframe tbody tr th:only-of-type {\n",
       "        vertical-align: middle;\n",
       "    }\n",
       "\n",
       "    .dataframe tbody tr th {\n",
       "        vertical-align: top;\n",
       "    }\n",
       "\n",
       "    .dataframe thead th {\n",
       "        text-align: right;\n",
       "    }\n",
       "</style>\n",
       "<table border=\"1\" class=\"dataframe\">\n",
       "  <thead>\n",
       "    <tr style=\"text-align: right;\">\n",
       "      <th></th>\n",
       "      <th>Master ID</th>\n",
       "      <th>Longitude</th>\n",
       "      <th>Latitude</th>\n",
       "      <th>Skeletal element</th>\n",
       "      <th>Mean Date</th>\n",
       "      <th>Age at death</th>\n",
       "      <th>Group ID</th>\n",
       "      <th>Locality</th>\n",
       "      <th>Political Entity</th>\n",
       "    </tr>\n",
       "  </thead>\n",
       "  <tbody>\n",
       "    <tr>\n",
       "      <th>0</th>\n",
       "      <td>Loschbour</td>\n",
       "      <td>6.4</td>\n",
       "      <td>49.81</td>\n",
       "      <td>tooth</td>\n",
       "      <td>8025</td>\n",
       "      <td>34-47 yrs</td>\n",
       "      <td>Luxembourg_Mesolithic.AG</td>\n",
       "      <td>Loschbour (Echternach)</td>\n",
       "      <td>Luxembourg</td>\n",
       "    </tr>\n",
       "    <tr>\n",
       "      <th>1</th>\n",
       "      <td>Kou01</td>\n",
       "      <td>25.60652</td>\n",
       "      <td>36.937529</td>\n",
       "      <td>..</td>\n",
       "      <td>4250</td>\n",
       "      <td>..</td>\n",
       "      <td>Greece_Koufonisi_Cycladic_EBA.SG</td>\n",
       "      <td>Potamia (Cyclades, Epano Koufonisi)</td>\n",
       "      <td>Greece</td>\n",
       "    </tr>\n",
       "    <tr>\n",
       "      <th>2</th>\n",
       "      <td>Kou03</td>\n",
       "      <td>25.60652</td>\n",
       "      <td>36.937529</td>\n",
       "      <td>..</td>\n",
       "      <td>4250</td>\n",
       "      <td>..</td>\n",
       "      <td>Greece_Koufonisi_Cycladic_EBA.SG</td>\n",
       "      <td>Potamia (Cyclades, Epano Koufonisi)</td>\n",
       "      <td>Greece</td>\n",
       "    </tr>\n",
       "    <tr>\n",
       "      <th>3</th>\n",
       "      <td>Log02</td>\n",
       "      <td>21.823641</td>\n",
       "      <td>39.980392</td>\n",
       "      <td>..</td>\n",
       "      <td>4250</td>\n",
       "      <td>..</td>\n",
       "      <td>Greece_Logkas_MBA.SG</td>\n",
       "      <td>Elati-Logkas site (Kozani, Elati)</td>\n",
       "      <td>Greece</td>\n",
       "    </tr>\n",
       "    <tr>\n",
       "      <th>4</th>\n",
       "      <td>Log04</td>\n",
       "      <td>21.823641</td>\n",
       "      <td>39.980392</td>\n",
       "      <td>..</td>\n",
       "      <td>4250</td>\n",
       "      <td>..</td>\n",
       "      <td>Greece_Logkas_MBA.SG</td>\n",
       "      <td>Elati-Logkas site (Kozani, Elati)</td>\n",
       "      <td>Greece</td>\n",
       "    </tr>\n",
       "  </tbody>\n",
       "</table>\n",
       "</div>"
      ],
      "text/plain": [
       "   Master ID  Longitude   Latitude Skeletal element  Mean Date Age at death  \\\n",
       "0  Loschbour        6.4      49.81            tooth       8025    34-47 yrs   \n",
       "1      Kou01   25.60652  36.937529               ..       4250           ..   \n",
       "2      Kou03   25.60652  36.937529               ..       4250           ..   \n",
       "3      Log02  21.823641  39.980392               ..       4250           ..   \n",
       "4      Log04  21.823641  39.980392               ..       4250           ..   \n",
       "\n",
       "                           Group ID                             Locality  \\\n",
       "0          Luxembourg_Mesolithic.AG               Loschbour (Echternach)   \n",
       "1  Greece_Koufonisi_Cycladic_EBA.SG  Potamia (Cyclades, Epano Koufonisi)   \n",
       "2  Greece_Koufonisi_Cycladic_EBA.SG  Potamia (Cyclades, Epano Koufonisi)   \n",
       "3              Greece_Logkas_MBA.SG   Elati-Logkas site (Kozani, Elati)    \n",
       "4              Greece_Logkas_MBA.SG   Elati-Logkas site (Kozani, Elati)    \n",
       "\n",
       "  Political Entity  \n",
       "0       Luxembourg  \n",
       "1           Greece  \n",
       "2           Greece  \n",
       "3           Greece  \n",
       "4           Greece  "
      ]
     },
     "execution_count": 1,
     "metadata": {},
     "output_type": "execute_result"
    }
   ],
   "source": [
    "import pandas as pd\n",
    "\n",
    "annoDf=pd.read_csv('./v62.0_1240k_public.tsv',sep=\"\\t\")\n",
    "cleanAnnoDf = annoDf[[\n",
    "    'Master ID',\n",
    "    'Long.',\n",
    "    'Lat.',\n",
    "    'Skeletal element',\n",
    "    'Date mean in BP in years before 1950 CE [OxCal mu for a direct radiocarbon date, and average of range for a contextual date]',\n",
    "    'Age at death, Morphological sex from physical anthropology',\n",
    "    'Group ID',\n",
    "    'Locality',\n",
    "    'Political Entity'\n",
    "]]\n",
    "cleanAnnoDf = cleanAnnoDf.rename(columns={\n",
    "    'Long.': 'Longitude',\n",
    "    'Lat.': 'Latitude',\n",
    "    'Date mean in BP in years before 1950 CE [OxCal mu for a direct radiocarbon date, and average of range for a contextual date]': 'Mean Date',\n",
    "    'Age at death, Morphological sex from physical anthropology': 'Age at death',\n",
    "    })\n",
    "\n",
    "cleanAnnoDf.head()"
   ]
  },
  {
   "cell_type": "code",
   "execution_count": 2,
   "metadata": {},
   "outputs": [
    {
     "data": {
      "text/plain": [
       "17629"
      ]
     },
     "execution_count": 2,
     "metadata": {},
     "output_type": "execute_result"
    }
   ],
   "source": [
    "snpChoiceDf = pd.read_csv('./snpChoice.tsv',sep='\\t')\n",
    "for i in range(5):\n",
    "    snpName = snpChoiceDf['0'][i]\n",
    "    snpNums = [n for n in snpChoiceDf['8'][i]]\n",
    "    cleanAnnoDf[snpName]=pd.Series(snpNums)\n",
    "\n",
    "cleanAnnoDf.head(5)\n",
    "cleanAnnoDf.shape[0]"
   ]
  },
  {
   "cell_type": "code",
   "execution_count": 3,
   "metadata": {},
   "outputs": [
    {
     "data": {
      "text/plain": [
       "16655"
      ]
     },
     "execution_count": 3,
     "metadata": {},
     "output_type": "execute_result"
    }
   ],
   "source": [
    "cleanAnnoDf=cleanAnnoDf.drop_duplicates(subset='Master ID',keep='first')\n",
    "cleanAnnoDf.shape[0]"
   ]
  },
  {
   "cell_type": "code",
   "execution_count": 10,
   "metadata": {},
   "outputs": [],
   "source": [
    "json_string=cleanAnnoDf.to_json(orient='records',lines=False)\n",
    "json_file='ancientHumanData.json'\n",
    "with open(json_file,'w') as f:\n",
    "    f.write(f'{{\"elements\": {json_string}}}')"
   ]
  },
  {
   "cell_type": "code",
   "execution_count": null,
   "metadata": {},
   "outputs": [],
   "source": []
  }
 ],
 "metadata": {
  "kernelspec": {
   "display_name": "Python 3 (ipykernel)",
   "language": "python",
   "name": "python3"
  },
  "language_info": {
   "codemirror_mode": {
    "name": "ipython",
    "version": 3
   },
   "file_extension": ".py",
   "mimetype": "text/x-python",
   "name": "python",
   "nbconvert_exporter": "python",
   "pygments_lexer": "ipython3",
   "version": "3.12.8"
  }
 },
 "nbformat": 4,
 "nbformat_minor": 4
}
