{
 "cells": [
  {
   "cell_type": "code",
   "execution_count": 2,
   "metadata": {},
   "outputs": [
    {
     "name": "stderr",
     "output_type": "stream",
     "text": [
      "C:\\Users\\User\\AppData\\Local\\Temp\\ipykernel_15448\\243502521.py:3: DtypeWarning: Columns (10,16,17) have mixed types. Specify dtype option on import or set low_memory=False.\n",
      "  annoDf=pd.read_csv('./v62.0_1240k_public.tsv',sep=\"\\t\")\n"
     ]
    },
    {
     "data": {
      "text/html": [
       "<div>\n",
       "<style scoped>\n",
       "    .dataframe tbody tr th:only-of-type {\n",
       "        vertical-align: middle;\n",
       "    }\n",
       "\n",
       "    .dataframe tbody tr th {\n",
       "        vertical-align: top;\n",
       "    }\n",
       "\n",
       "    .dataframe thead th {\n",
       "        text-align: right;\n",
       "    }\n",
       "</style>\n",
       "<table border=\"1\" class=\"dataframe\">\n",
       "  <thead>\n",
       "    <tr style=\"text-align: right;\">\n",
       "      <th></th>\n",
       "      <th>Longitude</th>\n",
       "      <th>Latitude</th>\n",
       "      <th>Skeletal element</th>\n",
       "      <th>Mean Date</th>\n",
       "      <th>Age at death</th>\n",
       "      <th>Group ID</th>\n",
       "      <th>Locality</th>\n",
       "      <th>Political Entity</th>\n",
       "      <th>Master ID</th>\n",
       "    </tr>\n",
       "  </thead>\n",
       "  <tbody>\n",
       "    <tr>\n",
       "      <th>0</th>\n",
       "      <td>6.4</td>\n",
       "      <td>49.81</td>\n",
       "      <td>tooth</td>\n",
       "      <td>8025</td>\n",
       "      <td>34-47 yrs</td>\n",
       "      <td>Luxembourg_Mesolithic.AG</td>\n",
       "      <td>Loschbour (Echternach)</td>\n",
       "      <td>Luxembourg</td>\n",
       "      <td>Loschbour</td>\n",
       "    </tr>\n",
       "    <tr>\n",
       "      <th>1</th>\n",
       "      <td>25.60652</td>\n",
       "      <td>36.937529</td>\n",
       "      <td>..</td>\n",
       "      <td>4250</td>\n",
       "      <td>..</td>\n",
       "      <td>Greece_Koufonisi_Cycladic_EBA.SG</td>\n",
       "      <td>Potamia (Cyclades, Epano Koufonisi)</td>\n",
       "      <td>Greece</td>\n",
       "      <td>Kou01</td>\n",
       "    </tr>\n",
       "    <tr>\n",
       "      <th>2</th>\n",
       "      <td>25.60652</td>\n",
       "      <td>36.937529</td>\n",
       "      <td>..</td>\n",
       "      <td>4250</td>\n",
       "      <td>..</td>\n",
       "      <td>Greece_Koufonisi_Cycladic_EBA.SG</td>\n",
       "      <td>Potamia (Cyclades, Epano Koufonisi)</td>\n",
       "      <td>Greece</td>\n",
       "      <td>Kou03</td>\n",
       "    </tr>\n",
       "    <tr>\n",
       "      <th>3</th>\n",
       "      <td>21.823641</td>\n",
       "      <td>39.980392</td>\n",
       "      <td>..</td>\n",
       "      <td>4250</td>\n",
       "      <td>..</td>\n",
       "      <td>Greece_Logkas_MBA.SG</td>\n",
       "      <td>Elati-Logkas site (Kozani, Elati)</td>\n",
       "      <td>Greece</td>\n",
       "      <td>Log02</td>\n",
       "    </tr>\n",
       "    <tr>\n",
       "      <th>4</th>\n",
       "      <td>21.823641</td>\n",
       "      <td>39.980392</td>\n",
       "      <td>..</td>\n",
       "      <td>4250</td>\n",
       "      <td>..</td>\n",
       "      <td>Greece_Logkas_MBA.SG</td>\n",
       "      <td>Elati-Logkas site (Kozani, Elati)</td>\n",
       "      <td>Greece</td>\n",
       "      <td>Log04</td>\n",
       "    </tr>\n",
       "  </tbody>\n",
       "</table>\n",
       "</div>"
      ],
      "text/plain": [
       "   Longitude   Latitude Skeletal element  Mean Date Age at death  \\\n",
       "0        6.4      49.81            tooth       8025    34-47 yrs   \n",
       "1   25.60652  36.937529               ..       4250           ..   \n",
       "2   25.60652  36.937529               ..       4250           ..   \n",
       "3  21.823641  39.980392               ..       4250           ..   \n",
       "4  21.823641  39.980392               ..       4250           ..   \n",
       "\n",
       "                           Group ID                             Locality  \\\n",
       "0          Luxembourg_Mesolithic.AG               Loschbour (Echternach)   \n",
       "1  Greece_Koufonisi_Cycladic_EBA.SG  Potamia (Cyclades, Epano Koufonisi)   \n",
       "2  Greece_Koufonisi_Cycladic_EBA.SG  Potamia (Cyclades, Epano Koufonisi)   \n",
       "3              Greece_Logkas_MBA.SG   Elati-Logkas site (Kozani, Elati)    \n",
       "4              Greece_Logkas_MBA.SG   Elati-Logkas site (Kozani, Elati)    \n",
       "\n",
       "  Political Entity  Master ID  \n",
       "0       Luxembourg  Loschbour  \n",
       "1           Greece      Kou01  \n",
       "2           Greece      Kou03  \n",
       "3           Greece      Log02  \n",
       "4           Greece      Log04  "
      ]
     },
     "execution_count": 2,
     "metadata": {},
     "output_type": "execute_result"
    }
   ],
   "source": [
    "import pandas as pd\n",
    "\n",
    "annoDf=pd.read_csv('./v62.0_1240k_public.tsv',sep=\"\\t\")\n",
    "cleanAnnoDf = annoDf[[\n",
    "    'Long.',\n",
    "    'Lat.',\n",
    "    'Skeletal element',\n",
    "    'Date mean in BP in years before 1950 CE [OxCal mu for a direct radiocarbon date, and average of range for a contextual date]',\n",
    "    'Age at death, Morphological sex from physical anthropology',\n",
    "    'Group ID',\n",
    "    'Locality',\n",
    "    'Political Entity',\n",
    "    'Master ID'\n",
    "]]\n",
    "cleanAnnoDf = cleanAnnoDf.rename(columns={\n",
    "    'Long.': 'Longitude',\n",
    "    'Lat.': 'Latitude',\n",
    "    'Date mean in BP in years before 1950 CE [OxCal mu for a direct radiocarbon date, and average of range for a contextual date]': 'Mean Date',\n",
    "    'Age at death, Morphological sex from physical anthropology': 'Age at death',\n",
    "    })\n",
    "\n",
    "cleanAnnoDf.head()"
   ]
  },
  {
   "cell_type": "code",
   "execution_count": 4,
   "metadata": {},
   "outputs": [
    {
     "data": {
      "text/plain": [
       "17629"
      ]
     },
     "execution_count": 4,
     "metadata": {},
     "output_type": "execute_result"
    }
   ],
   "source": [
    "snpChoiceDf = pd.read_csv('./snpChoice.tsv',sep='\\t')\n",
    "for i in range(5):\n",
    "    snpName = snpChoiceDf['0'][i]\n",
    "    snpNums = [n for n in snpChoiceDf['8'][i]]\n",
    "    cleanAnnoDf[snpName]=pd.Series(snpNums)\n",
    "\n",
    "cleanAnnoDf.head(5)\n",
    "cleanAnnoDf.shape[0]"
   ]
  },
  {
   "cell_type": "code",
   "execution_count": 5,
   "metadata": {},
   "outputs": [
    {
     "data": {
      "text/plain": [
       "16655"
      ]
     },
     "execution_count": 5,
     "metadata": {},
     "output_type": "execute_result"
    }
   ],
   "source": [
    "df_duplicates_removed=cleanAnnoDf.drop_duplicates(subset='Master ID',keep='first')\n",
    "df_duplicates_removed.shape[0]"
   ]
  },
  {
   "cell_type": "code",
   "execution_count": 7,
   "metadata": {},
   "outputs": [],
   "source": [
    "df_duplicates_removed.to_csv('duplicates_removed.csv',index=False)"
   ]
  },
  {
   "cell_type": "code",
   "execution_count": 8,
   "metadata": {},
   "outputs": [],
   "source": [
    "json_string=df_duplicates_removed.to_json(orient='records',lines=True)\n",
    "json_file='duplicates_removed.json'\n",
    "with open(json_file,'w') as f:\n",
    "    f.write(json_string)"
   ]
  },
  {
   "cell_type": "code",
   "execution_count": null,
   "metadata": {},
   "outputs": [],
   "source": [
    "cleanAnnoDf.to_csv('ancientHumanData.csv', index=False)"
   ]
  },
  {
   "cell_type": "code",
   "execution_count": null,
   "metadata": {},
   "outputs": [],
   "source": [
    "json_string=cleanAnnoDf.to_json(orient='records',lines=True)\n",
    "json_file='ancientHumanData1.json'\n",
    "with open(json_file,'w') as f:\n",
    "    f.write(json_string)"
   ]
  },
  {
   "cell_type": "code",
   "execution_count": null,
   "metadata": {},
   "outputs": [],
   "source": []
  }
 ],
 "metadata": {
  "kernelspec": {
   "display_name": "Python 3",
   "language": "python",
   "name": "python3"
  },
  "language_info": {
   "codemirror_mode": {
    "name": "ipython",
    "version": 3
   },
   "file_extension": ".py",
   "mimetype": "text/x-python",
   "name": "python",
   "nbconvert_exporter": "python",
   "pygments_lexer": "ipython3",
   "version": "3.11.1"
  }
 },
 "nbformat": 4,
 "nbformat_minor": 4
}
